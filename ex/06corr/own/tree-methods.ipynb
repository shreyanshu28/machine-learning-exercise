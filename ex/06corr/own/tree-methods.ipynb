{
 "cells": [
  {
   "cell_type": "code",
   "execution_count": 1,
   "metadata": {},
   "outputs": [],
   "source": [
    "# import modules\n",
    "import numpy as np\n",
    "from sklearn.datasets import load_digits\n",
    "import scipy\n",
    "from abc import abstractmethod\n",
    "from math import log, e"
   ]
  },
  {
   "attachments": {},
   "cell_type": "markdown",
   "metadata": {},
   "source": [
    "# Base Classes"
   ]
  },
  {
   "cell_type": "code",
   "execution_count": 2,
   "metadata": {},
   "outputs": [],
   "source": [
    "class Node:\n",
    "    '''\n",
    "      this class will later get the following attributes\n",
    "      all nodes:\n",
    "          features\n",
    "          responses\n",
    "      split nodes additionally:\n",
    "          left\n",
    "          right\n",
    "          split_index\n",
    "          threshold\n",
    "      leaf nodes additionally\n",
    "          prediction\n",
    "    '''\n",
    "        \n",
    "\n",
    "class Tree:\n",
    "    '''\n",
    "      base class for RegressionTree and ClassificationTree\n",
    "    '''\n",
    "    def __init__(self, n_min=10):\n",
    "        '''n_min: minimum required number of instances in leaf nodes\n",
    "        '''\n",
    "        self.n_min = n_min \n",
    "    \n",
    "    def predict(self, x):\n",
    "        ''' return the prediction for the given 1-D feature vector x\n",
    "        '''\n",
    "        # first find the leaf containing the 1-D feature vector x\n",
    "        node = self.root\n",
    "        while not hasattr(node, \"prediction\"):\n",
    "            j = node.split_index\n",
    "            if x[j] <= node.threshold:\n",
    "                node = node.left\n",
    "            else:\n",
    "                node = node.right\n",
    "        # finally, return the leaf's prediction\n",
    "        return node.prediction\n",
    "        \n",
    "    def train(self, features, responses, D_try=None):\n",
    "        '''\n",
    "        features: the feature matrix of the training set\n",
    "        response: the vector of responses\n",
    "        '''\n",
    "        N, D = features.shape\n",
    "        assert(responses.shape[0] == N)\n",
    "\n",
    "        if D_try is None:\n",
    "            D_try = int(np.sqrt(D)) # number of features to consider for each split decision\n",
    "        \n",
    "        # initialize the root node\n",
    "        self.root = Node()\n",
    "        self.root.features  = features\n",
    "        self.root.responses = responses\n",
    "\n",
    "        # build the tree\n",
    "        stack = [self.root]\n",
    "        while len(stack):\n",
    "            node = stack.pop()\n",
    "            active_indices = self.select_active_indices(D, D_try)\n",
    "            left, right = self.make_split_node(node, active_indices)\n",
    "            if left is None: # no split found\n",
    "                self.make_leaf_node(node)\n",
    "            else:\n",
    "                stack.append(left)\n",
    "                stack.append(right)\n",
    "    \n",
    "    def make_split_node(self, node, indices):\n",
    "        '''\n",
    "        node: the node to be split\n",
    "        indices: a numpy array of length 'D_try', containing the feature \n",
    "                         indices to be considered for the present split\n",
    "                         \n",
    "        return: None, None -- if no suitable split has been found, or\n",
    "                left, right -- the children of the split\n",
    "        '''\n",
    "        # all responses equal => no improvement possible by any split\n",
    "        if np.unique(node.responses).shape[0] == 1:\n",
    "            return None, None\n",
    "        \n",
    "        # find best feature j_min (among 'indices') and best threshold t_min for the split\n",
    "        l_min = float('inf')  # upper bound for the loss, later the loss of the best split\n",
    "        j_min, t_min = None, None\n",
    "\n",
    "        for j in indices:\n",
    "            thresholds = self.find_thresholds(node, j)\n",
    "\n",
    "            # compute loss for each threshold\n",
    "            for t in thresholds:\n",
    "                loss = self.compute_loss_for_split(node, j, t)\n",
    "\n",
    "                # remember the best split so far \n",
    "                # (the condition is never True when loss = float('inf') )\n",
    "                if loss < l_min:\n",
    "                    l_min = loss\n",
    "                    j_min = j\n",
    "                    t_min = t\n",
    "\n",
    "        if j_min is None: # no split found\n",
    "            return None, None\n",
    "\n",
    "        # create children for the best split\n",
    "        left, right = self.make_children(node, j_min, t_min)\n",
    "\n",
    "        # turn the current 'node' into a split node\n",
    "        # (store children and split condition)\n",
    "        node.left = left\n",
    "        node.right = right\n",
    "        node.split_index = j_min\n",
    "        node.threshold = t_min # your code here\n",
    "        \n",
    "\n",
    "        # return the children (to be placed on the stack)\n",
    "        return left, right\n",
    "    \n",
    "    def select_active_indices(self, D, D_try):\n",
    "        ''' return a 1-D array with D_try randomly selected indices from 0...(D-1).\n",
    "        '''\n",
    "        return np.random.choice(D, size=D_try, replace=False) # your code here\n",
    "        \n",
    "    def find_thresholds(self, node, j):\n",
    "        ''' return: a 1-D array with all possible thresholds along feature j\n",
    "        '''\n",
    "        # sort the feature values along feature j\n",
    "        sorted_features = np.sort(node.features[:, j])\n",
    "\n",
    "        # find the candidate thresholds (in the middle between adjacent feature values)\n",
    "        thresholds = (sorted_features[:-1] + sorted_features[1:]) / 2\n",
    "\n",
    "        return thresholds # your code here\n",
    "       \n",
    "               \n",
    "    def make_children(self, node, j, t):\n",
    "        ''' execute the split in feature j at threshold t\n",
    "        \n",
    "            return: left, right -- the children of the split, with features and responses\n",
    "                                   properly assigned according to the split\n",
    "        '''\n",
    "        left = Node()\n",
    "        right = Node()\n",
    "\n",
    "        # your code here\n",
    "        # split the data according to the threshold t\n",
    "        left_mask = node.features[:, j] <= t\n",
    "        right_mask = node.features[:, j] > t\n",
    "\n",
    "        # assign the instances to the children\n",
    "        left.features = node.features[left_mask]\n",
    "        left.responses = node.responses[left_mask]\n",
    "        right.features = node.features[right_mask]\n",
    "        right.responses = node.responses[right_mask]\n",
    "\n",
    "        return left, right \n",
    "        \n",
    "        \n",
    "    @abstractmethod\n",
    "    def make_leaf_node(self, node):\n",
    "        ''' Turn node into a leaf by computing and setting `node.prediction`\n",
    "        \n",
    "            (must be implemented in a subclass)\n",
    "        '''\n",
    "        raise NotImplementedError(\"make_leaf_node() must be implemented in a subclass.\")\n",
    "        \n",
    "    @abstractmethod\n",
    "    def compute_loss_for_split(self, node, j, t):\n",
    "        ''' Return the resulting loss when the data are split along feature j at threshold t.\n",
    "            If the split is not admissible, return float('inf').\n",
    "        \n",
    "            (must be implemented in a subclass)\n",
    "        '''\n",
    "        raise NotImplementedError(\"compute_loss_for_split() must be implemented in a subclass.\")\n"
   ]
  },
  {
   "attachments": {},
   "cell_type": "markdown",
   "metadata": {},
   "source": [
    "<div style=\"color: green; font-weight:\n",
    "bold\"> slightly different from solution, especially different threshhold chosen </div>"
   ]
  },
  {
   "attachments": {},
   "cell_type": "markdown",
   "metadata": {},
   "source": [
    "# Regression Tree"
   ]
  },
  {
   "cell_type": "code",
   "execution_count": 3,
   "metadata": {},
   "outputs": [],
   "source": [
    "class RegressionTree(Tree):\n",
    "    def __init__(self, n_min=10):\n",
    "        super(RegressionTree, self).__init__(n_min)\n",
    "        \n",
    "    def compute_loss_for_split(self, node, j, t):\n",
    "        # return the loss if we would split the instance along feature j at threshold t\n",
    "        # or float('inf') if there is no feasible split\n",
    "        \n",
    "        # your code here\n",
    "        #compute loss\n",
    "        left_mask = node.features[:, j] <= t\n",
    "        right_mask = node.features[:, j] > t\n",
    "\n",
    "        # check if the split is admissible\n",
    "        if np.sum(left_mask) < self.n_min or np.sum(right_mask) < self.n_min:\n",
    "            return float('inf')\n",
    "\n",
    "        # compute the loss for the split\n",
    "        left_responses = node.responses[left_mask]\n",
    "        right_responses = node.responses[right_mask]\n",
    "\n",
    "        # squared loss for regression\n",
    "        left_loss = np.mean((left_responses - np.mean(left_responses)) ** 2)\n",
    "        right_loss = np.mean((right_responses - np.mean(right_responses)) ** 2)\n",
    "        loss = left_loss + right_loss\n",
    "\n",
    "        return loss\n",
    "       \n",
    "    def make_leaf_node(self, node):\n",
    "        # turn node into a leaf node by computing `node.prediction`\n",
    "        # (note: the prediction of a regression tree is a real number)\n",
    "        node.prediction =  np.mean(node.responses) # your code here\n",
    "        "
   ]
  },
  {
   "attachments": {},
   "cell_type": "markdown",
   "metadata": {},
   "source": [
    "<div style=\"color: green; font-weight:\n",
    "bold\"> different from solution also works </div>"
   ]
  },
  {
   "attachments": {},
   "cell_type": "markdown",
   "metadata": {},
   "source": [
    "# Classification Tree"
   ]
  },
  {
   "cell_type": "code",
   "execution_count": 4,
   "metadata": {
    "tags": []
   },
   "outputs": [],
   "source": [
    "class ClassificationTree(Tree):\n",
    "    '''implement classification tree so that it can handle arbitrary many classes\n",
    "    '''\n",
    "    \n",
    "    def __init__(self, classes, n_min=10):\n",
    "        ''' classes: a 1-D array with the permitted class labels\n",
    "            n_min: minimum required number of instances in leaf nodes\n",
    "        '''\n",
    "        super(ClassificationTree, self).__init__(n_min)\n",
    "        self.classes = classes\n",
    "        self.criterion = 'entropy' # or 'gini'\n",
    "        \n",
    "    def compute_loss_for_split(self, node, j, t):\n",
    "        # return the loss if we would split the instance along feature j at threshold t\n",
    "        # or float('inf') if there is no feasible split\n",
    "        # your code here\n",
    "        left_mask = node.features[:, j] <= t\n",
    "        right_mask = node.features[:, j] > t\n",
    "\n",
    "        # check if the split is admissible\n",
    "        if np.sum(left_mask) < self.n_min or np.sum(right_mask) < self.n_min:\n",
    "            return float('inf')\n",
    "\n",
    "        # compute the loss for the split\n",
    "        left_responses = node.responses[left_mask]\n",
    "        right_responses = node.responses[right_mask]\n",
    "\n",
    "        left_p = np.mean(left_responses == 1)\n",
    "        right_p = np.mean(right_responses == 1)\n",
    "        left_loss = self.entropy(left_p) if self.criterion == 'entropy' else self.gini_impurity(left_p)\n",
    "        right_loss = self.entropy(right_p) if self.criterion == 'entropy' else self.gini_impurity(right_p)\n",
    "        loss = (np.sum(left_mask) * left_loss + np.sum(right_mask) * right_loss) / node.features.shape[0]\n",
    "\n",
    "        return loss\n",
    "        \n",
    "    def entropy(self, p):\n",
    "        ''' compute the entropy\n",
    "        '''\n",
    "        value,counts = np.unique(p, return_counts=True)\n",
    "        norm_counts = counts / counts.sum()\n",
    "        base = e\n",
    "        return -(norm_counts * np.log(norm_counts)/np.log(base)).sum()\n",
    "    \n",
    "    def gini_impurity(self, p):\n",
    "        ''' compute the Gini impurity\n",
    "        '''\n",
    "        return 1 - p ** 2 - (1 - p) ** 2\n",
    "        \n",
    "    def make_leaf_node(self, node):\n",
    "        # turn node into a leaf node by computing `node.prediction`\n",
    "        # (note: the prediction of a classification tree is a class label)\n",
    "        # your code here\n",
    "        #considering the case where there are more than 2 classes class labels as well, the minlengh of bin\n",
    "        counts_bins = np.bincount(node.responses, minlength=max(self.classes) + 1)\n",
    "        # print(counts_bins)\n",
    "        pred_counts = counts_bins[self.classes]  #only select indices that are in self.classes (others are zero)\n",
    "        # print(np.argmax(pred_counts), pred_counts)\n",
    "        node.prediction = self.classes[np.argmax(pred_counts)]\n",
    "        "
   ]
  },
  {
   "attachments": {},
   "cell_type": "markdown",
   "metadata": {},
   "source": [
    "<div style=\"color: green; font-weight:\n",
    "bold\"> different from solution also works </div>"
   ]
  },
  {
   "attachments": {},
   "cell_type": "markdown",
   "metadata": {},
   "source": [
    "# Evaluation of Regression and Classification Tree"
   ]
  },
  {
   "cell_type": "code",
   "execution_count": 5,
   "metadata": {
    "tags": []
   },
   "outputs": [
    {
     "name": "stdout",
     "output_type": "stream",
     "text": [
      "(1797, 64) (1797,)\n"
     ]
    }
   ],
   "source": [
    "# read and prepare the digits data and extract 3s and 9s\n",
    "digits = load_digits()\n",
    "print(digits.data.shape, digits.target.shape)\n",
    "\n",
    "instances = (digits.target == 3) | (digits.target == 9)\n",
    "features = digits.data[instances, :]\n",
    "labels = digits.target[instances]\n",
    "\n",
    "# for regression, we use labels +1 and -1\n",
    "responses = np.array([1 if l == 3 else -1 for l in labels])\n",
    "\n",
    "assert(features.shape[0] == labels.shape[0] == responses.shape[0])"
   ]
  },
  {
   "cell_type": "code",
   "execution_count": 6,
   "metadata": {
    "tags": []
   },
   "outputs": [
    {
     "name": "stdout",
     "output_type": "stream",
     "text": [
      "The mean MSE score for RegressionTree on cross validation is:  0.4131528957727181\n"
     ]
    }
   ],
   "source": [
    "# perform 5-fold cross-validation (see ex01) with responses +1 and -1 (for 3s and 9s)\n",
    "# using RegressionTree()\n",
    "# and comment on your results\n",
    "# your code here\n",
    "from sklearn.model_selection import KFold\n",
    "\n",
    "def cross_validation(model, features, responses, n_splits=5, regression = False):\n",
    "    kf = KFold(n_splits=n_splits)\n",
    "    scores = []\n",
    "    for train_index, test_index in kf.split(features):\n",
    "        model.train(features[train_index], responses[train_index])\n",
    "        preds = np.array([model.predict(features[t]) for t in test_index])\n",
    "        if regression:\n",
    "            #for regression we calculate MSE\n",
    "            scores.append(np.sum((preds - responses[test_index]) ** 2) / len(responses[test_index]))\n",
    "        else:\n",
    "            #calculate accuracy from preds and responses for classification\n",
    "            scores.append(np.sum((preds == responses[test_index]))/len(responses[test_index]))\n",
    "    # print(scores)\n",
    "    return np.mean(scores)\n",
    "\n",
    "print(\"The mean MSE score for RegressionTree on cross validation is: \", cross_validation(RegressionTree(n_min=5), features, responses, regression=True))"
   ]
  },
  {
   "attachments": {},
   "cell_type": "markdown",
   "metadata": {},
   "source": [
    "<div style=\"color: green; font-weight:\n",
    "bold\"> MSE in solution is smaller and more detailed </div>"
   ]
  },
  {
   "cell_type": "code",
   "execution_count": 7,
   "metadata": {},
   "outputs": [
    {
     "name": "stdout",
     "output_type": "stream",
     "text": [
      "The mean accuracy score for ClassificationTree on cross validation is:  0.7798325722983257\n"
     ]
    }
   ],
   "source": [
    "# perform 5-fold cross-validation with labels 3 and 9\n",
    "# using ClassificationTree(classes=np.unique(labels))\n",
    "# and comment on your results\n",
    "# your code here\n",
    "# print(np.unique(labels))\n",
    "print(\"The mean accuracy score for ClassificationTree on cross validation is: \",cross_validation(ClassificationTree(classes=np.unique(labels)), features, labels))"
   ]
  },
  {
   "attachments": {},
   "cell_type": "markdown",
   "metadata": {},
   "source": [
    "<div style=\"color: green; font-weight:\n",
    "bold\"> MSE in solution is much smaller and more detailed </div>"
   ]
  },
  {
   "attachments": {},
   "cell_type": "markdown",
   "metadata": {},
   "source": [
    "# Regression and Classification Forest"
   ]
  },
  {
   "cell_type": "code",
   "execution_count": 8,
   "metadata": {},
   "outputs": [],
   "source": [
    "def bootstrap_sampling(features, responses, split_by_response=None):\n",
    "    '''return a bootstrap sample of features and responses\n",
    "    '''\n",
    "\n",
    "    if split_by_response is None:\n",
    "        # determine the number of data points\n",
    "        num_data_points = len(features)\n",
    "\n",
    "        # generate a set of random indices with replacement\n",
    "        bootstrap_indices = np.random.choice(range(num_data_points), size=num_data_points, replace=True)\n",
    "\n",
    "        # use these indices to create a bootstrap sample of the original dataset\n",
    "        bootstrap_features = features[bootstrap_indices]\n",
    "        bootstrap_responses = responses[bootstrap_indices]\n",
    "    else:\n",
    "        # split the data set based on the supplied response\n",
    "        features_target = features[responses == split_by_response]\n",
    "        responses_target = responses[responses == split_by_response]\n",
    "\n",
    "        features_off_target = features[responses != split_by_response]\n",
    "        responses_off_target = responses[responses != split_by_response]\n",
    "\n",
    "        # determine the number of data points\n",
    "        num_target_points = len(features_target)\n",
    "        num_off_target_points = len(features_off_target)\n",
    "        \n",
    "        # generate a set of random indices with replacement\n",
    "        bootstrap_indices_target = np.random.choice(range(num_target_points), size=num_target_points, replace=True)\n",
    "        bootstrap_indices_off_target = np.random.choice(range(num_off_target_points), size=num_target_points, replace=True)\n",
    "        \n",
    "        # use these indices to create a bootstrap sample of the original dataset\n",
    "        bootstrap_features = np.concatenate((features_target[bootstrap_indices_target], features_off_target[bootstrap_indices_off_target]))\n",
    "        bootstrap_responses = np.concatenate((responses_target[bootstrap_indices_target], responses_off_target[bootstrap_indices_off_target]))\n",
    "        bootstrap_responses = np.array([1 if r == split_by_response else -1 for r in bootstrap_responses])\n",
    "\n",
    "    return bootstrap_features, bootstrap_responses"
   ]
  },
  {
   "attachments": {},
   "cell_type": "markdown",
   "metadata": {},
   "source": [
    "<div style=\"color: green; font-weight:\n",
    "bold\"> solution much shorter</div>"
   ]
  },
  {
   "cell_type": "code",
   "execution_count": 9,
   "metadata": {
    "tags": []
   },
   "outputs": [],
   "source": [
    "class RegressionForest():\n",
    "    def __init__(self, n_trees, n_min=10):\n",
    "        # create ensemble\n",
    "        self.trees = [RegressionTree(n_min) for i in range(n_trees)]\n",
    "    \n",
    "    def train(self, features, responses):\n",
    "        for tree in self.trees:\n",
    "            boostrap_features, bootstrap_responses = bootstrap_sampling(features, responses)\n",
    "            tree.train(boostrap_features, bootstrap_responses)\n",
    "\n",
    "    def predict(self, x):\n",
    "        # compute the response of the ensemble from the individual responses and return it\n",
    "        ... # your code here\n",
    "        predictions = [tree.predict(x) for tree in self.trees]\n",
    "\n",
    "        index_max = -1\n",
    "        score_max = -1\n",
    "        for index, score in enumerate(predictions):\n",
    "            if score > score_max:\n",
    "                index_max = index\n",
    "                score_max = score\n",
    "\n",
    "        if score_max > 0:\n",
    "            return self.classes[index_max]\n",
    "        else:\n",
    "            return \"unknown\""
   ]
  },
  {
   "attachments": {},
   "cell_type": "markdown",
   "metadata": {},
   "source": [
    "<div style=\"color: green; font-weight:\n",
    "bold\"> solution much shorter </div>"
   ]
  },
  {
   "cell_type": "code",
   "execution_count": 10,
   "metadata": {
    "tags": []
   },
   "outputs": [],
   "source": [
    "class ClassificationForest():\n",
    "    def __init__(self, n_trees, classes, n_min=1):\n",
    "        self.trees = [ClassificationTree(classes, n_min) for i in range(n_trees)]\n",
    "        self.classes = classes\n",
    "    \n",
    "    def train(self, features, responses):\n",
    "        for tree in self.trees:\n",
    "            boostrap_features, bootstrap_responses = bootstrap_sampling(features, responses)\n",
    "            tree.train(boostrap_features, bootstrap_responses)\n",
    "\n",
    "    def predict(self, x):\n",
    "        # compute the response of the ensemble from the individual responses and return it\n",
    "        ... # your code here\n",
    "        predictions = [tree.predict(x) for tree in self.trees]\n",
    "        return scipy.stats.mode(predictions, axis=None, keepdims=False)[0]"
   ]
  },
  {
   "attachments": {},
   "cell_type": "markdown",
   "metadata": {},
   "source": [
    "<div style=\"color: green; font-weight:\n",
    "bold\"> different from solution </div>"
   ]
  },
  {
   "attachments": {},
   "cell_type": "markdown",
   "metadata": {},
   "source": [
    "# Evaluation of Regression and Decision Forest"
   ]
  },
  {
   "cell_type": "code",
   "execution_count": 11,
   "metadata": {
    "tags": []
   },
   "outputs": [
    {
     "ename": "AttributeError",
     "evalue": "'RegressionForest' object has no attribute 'classes'",
     "output_type": "error",
     "traceback": [
      "\u001b[0;31m---------------------------------------------------------------------------\u001b[0m",
      "\u001b[0;31mAttributeError\u001b[0m                            Traceback (most recent call last)",
      "Cell \u001b[0;32mIn[11], line 6\u001b[0m\n\u001b[1;32m      1\u001b[0m \u001b[39m# perform 5-fold cross-validation (see ex01) with responses +1 and -1 (for 3s and 9s)\u001b[39;00m\n\u001b[1;32m      2\u001b[0m \u001b[39m# using RegressionForest(n_trees=10)\u001b[39;00m\n\u001b[1;32m      3\u001b[0m \u001b[39m# and comment on your results\u001b[39;00m\n\u001b[1;32m      4\u001b[0m \u001b[39m# your code here\u001b[39;00m\n\u001b[0;32m----> 6\u001b[0m cross_val_score \u001b[39m=\u001b[39m cross_validation(RegressionForest(n_trees\u001b[39m=\u001b[39;49m\u001b[39m10\u001b[39;49m, n_min\u001b[39m=\u001b[39;49m\u001b[39m5\u001b[39;49m), features, responses, regression\u001b[39m=\u001b[39;49m\u001b[39mTrue\u001b[39;49;00m)\n\u001b[1;32m      7\u001b[0m \u001b[39mprint\u001b[39m(\u001b[39m\"\u001b[39m\u001b[39mThe mean MSE score for RegressionForest on cross validation is: \u001b[39m\u001b[39m\"\u001b[39m, cross_val_score)\n",
      "Cell \u001b[0;32mIn[6], line 12\u001b[0m, in \u001b[0;36mcross_validation\u001b[0;34m(model, features, responses, n_splits, regression)\u001b[0m\n\u001b[1;32m     10\u001b[0m \u001b[39mfor\u001b[39;00m train_index, test_index \u001b[39min\u001b[39;00m kf\u001b[39m.\u001b[39msplit(features):\n\u001b[1;32m     11\u001b[0m     model\u001b[39m.\u001b[39mtrain(features[train_index], responses[train_index])\n\u001b[0;32m---> 12\u001b[0m     preds \u001b[39m=\u001b[39m np\u001b[39m.\u001b[39marray([model\u001b[39m.\u001b[39mpredict(features[t]) \u001b[39mfor\u001b[39;00m t \u001b[39min\u001b[39;00m test_index])\n\u001b[1;32m     13\u001b[0m     \u001b[39mif\u001b[39;00m regression:\n\u001b[1;32m     14\u001b[0m         \u001b[39m#for regression we calculate MSE\u001b[39;00m\n\u001b[1;32m     15\u001b[0m         scores\u001b[39m.\u001b[39mappend(np\u001b[39m.\u001b[39msum((preds \u001b[39m-\u001b[39m responses[test_index]) \u001b[39m*\u001b[39m\u001b[39m*\u001b[39m \u001b[39m2\u001b[39m) \u001b[39m/\u001b[39m \u001b[39mlen\u001b[39m(responses[test_index]))\n",
      "Cell \u001b[0;32mIn[6], line 12\u001b[0m, in \u001b[0;36m<listcomp>\u001b[0;34m(.0)\u001b[0m\n\u001b[1;32m     10\u001b[0m \u001b[39mfor\u001b[39;00m train_index, test_index \u001b[39min\u001b[39;00m kf\u001b[39m.\u001b[39msplit(features):\n\u001b[1;32m     11\u001b[0m     model\u001b[39m.\u001b[39mtrain(features[train_index], responses[train_index])\n\u001b[0;32m---> 12\u001b[0m     preds \u001b[39m=\u001b[39m np\u001b[39m.\u001b[39marray([model\u001b[39m.\u001b[39;49mpredict(features[t]) \u001b[39mfor\u001b[39;00m t \u001b[39min\u001b[39;00m test_index])\n\u001b[1;32m     13\u001b[0m     \u001b[39mif\u001b[39;00m regression:\n\u001b[1;32m     14\u001b[0m         \u001b[39m#for regression we calculate MSE\u001b[39;00m\n\u001b[1;32m     15\u001b[0m         scores\u001b[39m.\u001b[39mappend(np\u001b[39m.\u001b[39msum((preds \u001b[39m-\u001b[39m responses[test_index]) \u001b[39m*\u001b[39m\u001b[39m*\u001b[39m \u001b[39m2\u001b[39m) \u001b[39m/\u001b[39m \u001b[39mlen\u001b[39m(responses[test_index]))\n",
      "Cell \u001b[0;32mIn[9], line 24\u001b[0m, in \u001b[0;36mRegressionForest.predict\u001b[0;34m(self, x)\u001b[0m\n\u001b[1;32m     21\u001b[0m         score_max \u001b[39m=\u001b[39m score\n\u001b[1;32m     23\u001b[0m \u001b[39mif\u001b[39;00m score_max \u001b[39m>\u001b[39m \u001b[39m0\u001b[39m:\n\u001b[0;32m---> 24\u001b[0m     \u001b[39mreturn\u001b[39;00m \u001b[39mself\u001b[39;49m\u001b[39m.\u001b[39;49mclasses[index_max]\n\u001b[1;32m     25\u001b[0m \u001b[39melse\u001b[39;00m:\n\u001b[1;32m     26\u001b[0m     \u001b[39mreturn\u001b[39;00m \u001b[39m\"\u001b[39m\u001b[39munknown\u001b[39m\u001b[39m\"\u001b[39m\n",
      "\u001b[0;31mAttributeError\u001b[0m: 'RegressionForest' object has no attribute 'classes'"
     ]
    }
   ],
   "source": [
    "# perform 5-fold cross-validation (see ex01) with responses +1 and -1 (for 3s and 9s)\n",
    "# using RegressionForest(n_trees=10)\n",
    "# and comment on your results\n",
    "# your code here\n",
    "\n",
    "cross_val_score = cross_validation(RegressionForest(n_trees=10, n_min=5), features, responses, regression=True)\n",
    "print(\"The mean MSE score for RegressionForest on cross validation is: \", cross_val_score)"
   ]
  },
  {
   "attachments": {},
   "cell_type": "markdown",
   "metadata": {},
   "source": [
    "<div style=\"color: green; font-weight:\n",
    "bold\"> Failed due to attibute error </div>"
   ]
  },
  {
   "cell_type": "code",
   "execution_count": null,
   "metadata": {},
   "outputs": [
    {
     "name": "stdout",
     "output_type": "stream",
     "text": [
      "The mean accuracy score for ClassificationTree on cross validation is:  0.917503805175038\n"
     ]
    }
   ],
   "source": [
    "# perform 5-fold cross-validation with labels 3 and 9\n",
    "# using DecisionForest(n_trees=10, classes=np.unique(labels))\n",
    "# and comment on your results\n",
    "# your code here\n",
    "\n",
    "cross_val_score = cross_validation(ClassificationForest(n_trees=10, classes=np.unique(labels)), features, labels)\n",
    "\n",
    "print(\"The mean accuracy score for ClassificationTree on cross validation is: \",cross_val_score)"
   ]
  },
  {
   "attachments": {},
   "cell_type": "markdown",
   "metadata": {},
   "source": [
    "<div style=\"color: green; font-weight:\n",
    "bold\"> MSE in solution is smaller and more detailed </div>"
   ]
  },
  {
   "attachments": {},
   "cell_type": "markdown",
   "metadata": {},
   "source": [
    "# Multi-class Classification Forest"
   ]
  },
  {
   "cell_type": "code",
   "execution_count": null,
   "metadata": {},
   "outputs": [
    {
     "data": {
      "image/png": "[encoded data removed]",
      "text/plain": [
       "<Figure size 480x480 with 2 Axes>"
      ]
     },
     "metadata": {},
     "output_type": "display_data"
    },
    {
     "name": "stdout",
     "output_type": "stream",
     "text": [
      "The mean accuracy score for ClassificationTree on cross validation is:  0.5192277932528628\n"
     ]
    }
   ],
   "source": [
    "# Train DecisionForest(n_trees=10, classes=np.unique(digits.target))\n",
    "# for all 10 digits simultaneously.\n",
    "# Compute and plot the confusion matrix after 5-fold cross-validation and comment on your results.\n",
    "# your code here\n",
    "\n",
    "#multiclass classification using classification tree\n",
    "from matplotlib import pyplot as plt\n",
    "\n",
    "def cross_validation_multiclass(model, features, responses, n_splits=5):\n",
    "    kf = KFold(n_splits=n_splits)\n",
    "    scores = []\n",
    "    confusion_matrix = np.zeros((10,10))\n",
    "    for train_index, test_index in kf.split(features):\n",
    "        model.train(features[train_index], responses[train_index])\n",
    "        preds = np.array([model.predict(features[t]) for t in test_index])\n",
    "        #calculate accuracy from preds and responses for classification\n",
    "        scores.append(np.sum((preds == responses[test_index]))/len(responses[test_index]))\n",
    "\n",
    "        for i in range(len(preds)):\n",
    "            confusion_matrix[responses[test_index][i]][preds[i]] += 1\n",
    "\n",
    "    #plot confusion matrix\n",
    "    plt.matshow(confusion_matrix)\n",
    "    #plot the title \n",
    "    plt.title('Confusion matrix for Multiclass Classification')\n",
    "    plt.xlabel('Predicted label')\n",
    "    plt.ylabel('True label')\n",
    "    plt.colorbar()\n",
    "    plt.show()\n",
    "\n",
    "    # print(scores)\n",
    "    return np.mean(scores)\n",
    "\n",
    "cross_val_score = cross_validation_multiclass(ClassificationTree(classes=np.unique(digits.target)), digits.data, digits.target)\n",
    "print(\"The mean accuracy score for ClassificationTree on cross validation is: \",cross_val_score)\n",
    "\n",
    "\n",
    "#multiclass classification using classification forest\n",
    "\n",
    "# cross_val_score = cross_validation_multiclass(ClassificationForest(n_trees=10, classes=np.unique(digits.target)), digits.data, digits.target)\n",
    "# print(\"The mean accuracy score for ClassificationForest on cross validation is: \",cross_val_score)\n",
    "\n"
   ]
  },
  {
   "attachments": {},
   "cell_type": "markdown",
   "metadata": {},
   "source": [
    "### Comments on Result:\n",
    "As seen above, the multiclass classifier with ClassificationTree performs poorly than binary classifier with same model, this is because there are 10 classes vs 2 in previous case, secondly the multiclass model has to predict 10 classes vs 2 in previous case so the possibly of predicting exactly the correct class wrong is much higher. This can be correct by using soft response instead of hard response, where the model predicts the predicted class based on posterior probability of each class.\n",
    "\n",
    "For multiclass classificationForest model, it is an ensemble of 10 multi-class classification trees, so the performance is better than single multi-class classification tree. This is to reduce overfitting and increase the accuracy of the model. The accuracy of the model can be further improved by using soft voting instead of hard voting of single trees used in classificationForest."
   ]
  },
  {
   "attachments": {},
   "cell_type": "markdown",
   "metadata": {},
   "source": [
    "<div style=\"color: green; font-weight:\n",
    "bold\"> solultion has values we only plot </div>"
   ]
  },
  {
   "attachments": {},
   "cell_type": "markdown",
   "metadata": {},
   "source": [
    "# One-against-the-rest classification with RegressionForest"
   ]
  },
  {
   "cell_type": "code",
   "execution_count": null,
   "metadata": {},
   "outputs": [
    {
     "ename": "TypeError",
     "evalue": "RegressionForest.__init__() missing 1 required positional argument: 'n_trees'",
     "output_type": "error",
     "traceback": [
      "\u001b[0;31m---------------------------------------------------------------------------\u001b[0m",
      "\u001b[0;31mTypeError\u001b[0m                                 Traceback (most recent call last)",
      "Cell \u001b[0;32mIn[17], line 1\u001b[0m\n\u001b[0;32m----> 1\u001b[0m get_ipython()\u001b[39m.\u001b[39;49mrun_cell_magic(\u001b[39m'\u001b[39;49m\u001b[39mtimeit\u001b[39;49m\u001b[39m'\u001b[39;49m, \u001b[39m'\u001b[39;49m\u001b[39m-n 1 -r 1\u001b[39;49m\u001b[39m'\u001b[39;49m, \u001b[39m'\u001b[39;49m\u001b[39mimport seaborn\u001b[39;49m\u001b[39m\\n\u001b[39;49;00m\u001b[39m\\n\u001b[39;49;00m\u001b[39m# Train ten one-against-the-rest regression forests for the 10 digits.\u001b[39;49m\u001b[39m\\n\u001b[39;49;00m\u001b[39m# Make sure that all training sets are balanced between the current digit and the rest.\u001b[39;49m\u001b[39m\\n\u001b[39;49;00m\u001b[39m# Assign test instances to the digit with highest score, \u001b[39;49m\u001b[39m\\n\u001b[39;49;00m\u001b[39m# or to \u001b[39;49m\u001b[39m\"\u001b[39;49m\u001b[39munknown\u001b[39;49m\u001b[39m\"\u001b[39;49m\u001b[39m if all scores are negative.\u001b[39;49m\u001b[39m\\n\u001b[39;49;00m\u001b[39m# Compute and plot the confusion matrix after 5-fold cross-validation and comment on your results.\u001b[39;49m\u001b[39m\\n\u001b[39;49;00m\u001b[39mfeatures = digits.data\u001b[39;49m\u001b[39m\\n\u001b[39;49;00m\u001b[39mlabels = digits.target\u001b[39;49m\u001b[39m\\n\u001b[39;49;00m\u001b[39m\\n\u001b[39;49;00m\u001b[39msplitter = KFold(n_splits=5)\u001b[39;49m\u001b[39m\\n\u001b[39;49;00m\u001b[39mclasses = list(np.unique(labels))\u001b[39;49m\u001b[39m\\n\u001b[39;49;00m\u001b[39mclasses.append(\u001b[39;49m\u001b[39m\"\u001b[39;49m\u001b[39munknown\u001b[39;49m\u001b[39m\"\u001b[39;49m\u001b[39m)\u001b[39;49m\u001b[39m\\n\u001b[39;49;00m\u001b[39m\\n\u001b[39;49;00m\u001b[39mforest = RegressionForest()\u001b[39;49m\u001b[39m\\n\u001b[39;49;00m\u001b[39mconfusion_matrix = np.zeros((len(classes), len(classes)))\u001b[39;49m\u001b[39m\\n\u001b[39;49;00m\u001b[39m\\n\u001b[39;49;00m\u001b[39mfor train_index, test_index in splitter.split(features):\u001b[39;49m\u001b[39m\\n\u001b[39;49;00m\u001b[39m    forest.train(features[train_index], labels[train_index])\u001b[39;49m\u001b[39m\\n\u001b[39;49;00m\u001b[39m\\n\u001b[39;49;00m\u001b[39m    for sample in test_index:\u001b[39;49m\u001b[39m\\n\u001b[39;49;00m\u001b[39m        label = labels[sample]\u001b[39;49m\u001b[39m\\n\u001b[39;49;00m\u001b[39m        prediction = forest.predict(features[sample])\u001b[39;49m\u001b[39m\\n\u001b[39;49;00m\u001b[39m        confusion_matrix[classes.index(label)][classes.index(prediction)] += 1\u001b[39;49m\u001b[39m\\n\u001b[39;49;00m\u001b[39m\\n\u001b[39;49;00m\u001b[39mprint(\u001b[39;49m\u001b[39m\"\u001b[39;49m\u001b[39mAccuracy: \u001b[39;49m\u001b[39m{:.1%}\u001b[39;49;00m\u001b[39m\"\u001b[39;49m\u001b[39m.format(np.trace(confusion_matrix) / np.sum(confusion_matrix)))\u001b[39;49m\u001b[39m\\n\u001b[39;49;00m\u001b[39m\\n\u001b[39;49;00m\u001b[39mplt.figure(figsize=(10, 8))\u001b[39;49m\u001b[39m\\n\u001b[39;49;00m\u001b[39mseaborn.heatmap(confusion_matrix / np.sum(confusion_matrix, axis=1), annot=True, cmap=\u001b[39;49m\u001b[39m\\'\u001b[39;49;00m\u001b[39mBlues\u001b[39;49m\u001b[39m\\'\u001b[39;49;00m\u001b[39m, xticklabels=classes, yticklabels=classes)\u001b[39;49m\u001b[39m\\n\u001b[39;49;00m\u001b[39mplt.xlabel(\u001b[39;49m\u001b[39m\\'\u001b[39;49;00m\u001b[39mPredicted label\u001b[39;49m\u001b[39m\\'\u001b[39;49;00m\u001b[39m)\u001b[39;49m\u001b[39m\\n\u001b[39;49;00m\u001b[39mplt.ylabel(\u001b[39;49m\u001b[39m\\'\u001b[39;49;00m\u001b[39mTrue label\u001b[39;49m\u001b[39m\\'\u001b[39;49;00m\u001b[39m)\u001b[39;49m\u001b[39m\\n\u001b[39;49;00m\u001b[39mplt.title(\u001b[39;49m\u001b[39m\\'\u001b[39;49;00m\u001b[39mConfusion matrix after 5-fold cross-validation\u001b[39;49m\u001b[39m\\'\u001b[39;49;00m\u001b[39m)\u001b[39;49m\u001b[39m\\n\u001b[39;49;00m\u001b[39mplt.show()\u001b[39;49m\u001b[39m\\n\u001b[39;49;00m\u001b[39m'\u001b[39;49m)\n",
      "File \u001b[0;32m~/.local/lib/python3.10/site-packages/IPython/core/interactiveshell.py:2478\u001b[0m, in \u001b[0;36mInteractiveShell.run_cell_magic\u001b[0;34m(self, magic_name, line, cell)\u001b[0m\n\u001b[1;32m   2476\u001b[0m \u001b[39mwith\u001b[39;00m \u001b[39mself\u001b[39m\u001b[39m.\u001b[39mbuiltin_trap:\n\u001b[1;32m   2477\u001b[0m     args \u001b[39m=\u001b[39m (magic_arg_s, cell)\n\u001b[0;32m-> 2478\u001b[0m     result \u001b[39m=\u001b[39m fn(\u001b[39m*\u001b[39;49margs, \u001b[39m*\u001b[39;49m\u001b[39m*\u001b[39;49mkwargs)\n\u001b[1;32m   2480\u001b[0m \u001b[39m# The code below prevents the output from being displayed\u001b[39;00m\n\u001b[1;32m   2481\u001b[0m \u001b[39m# when using magics with decodator @output_can_be_silenced\u001b[39;00m\n\u001b[1;32m   2482\u001b[0m \u001b[39m# when the last Python token in the expression is a ';'.\u001b[39;00m\n\u001b[1;32m   2483\u001b[0m \u001b[39mif\u001b[39;00m \u001b[39mgetattr\u001b[39m(fn, magic\u001b[39m.\u001b[39mMAGIC_OUTPUT_CAN_BE_SILENCED, \u001b[39mFalse\u001b[39;00m):\n",
      "File \u001b[0;32m~/.local/lib/python3.10/site-packages/IPython/core/magics/execution.py:1174\u001b[0m, in \u001b[0;36mExecutionMagics.timeit\u001b[0;34m(self, line, cell, local_ns)\u001b[0m\n\u001b[1;32m   1171\u001b[0m         \u001b[39mif\u001b[39;00m time_number \u001b[39m>\u001b[39m\u001b[39m=\u001b[39m \u001b[39m0.2\u001b[39m:\n\u001b[1;32m   1172\u001b[0m             \u001b[39mbreak\u001b[39;00m\n\u001b[0;32m-> 1174\u001b[0m all_runs \u001b[39m=\u001b[39m timer\u001b[39m.\u001b[39;49mrepeat(repeat, number)\n\u001b[1;32m   1175\u001b[0m best \u001b[39m=\u001b[39m \u001b[39mmin\u001b[39m(all_runs) \u001b[39m/\u001b[39m number\n\u001b[1;32m   1176\u001b[0m worst \u001b[39m=\u001b[39m \u001b[39mmax\u001b[39m(all_runs) \u001b[39m/\u001b[39m number\n",
      "File \u001b[0;32m/usr/lib/python3.10/timeit.py:206\u001b[0m, in \u001b[0;36mTimer.repeat\u001b[0;34m(self, repeat, number)\u001b[0m\n\u001b[1;32m    204\u001b[0m r \u001b[39m=\u001b[39m []\n\u001b[1;32m    205\u001b[0m \u001b[39mfor\u001b[39;00m i \u001b[39min\u001b[39;00m \u001b[39mrange\u001b[39m(repeat):\n\u001b[0;32m--> 206\u001b[0m     t \u001b[39m=\u001b[39m \u001b[39mself\u001b[39;49m\u001b[39m.\u001b[39;49mtimeit(number)\n\u001b[1;32m    207\u001b[0m     r\u001b[39m.\u001b[39mappend(t)\n\u001b[1;32m    208\u001b[0m \u001b[39mreturn\u001b[39;00m r\n",
      "File \u001b[0;32m~/.local/lib/python3.10/site-packages/IPython/core/magics/execution.py:158\u001b[0m, in \u001b[0;36mTimer.timeit\u001b[0;34m(self, number)\u001b[0m\n\u001b[1;32m    156\u001b[0m gc\u001b[39m.\u001b[39mdisable()\n\u001b[1;32m    157\u001b[0m \u001b[39mtry\u001b[39;00m:\n\u001b[0;32m--> 158\u001b[0m     timing \u001b[39m=\u001b[39m \u001b[39mself\u001b[39;49m\u001b[39m.\u001b[39;49minner(it, \u001b[39mself\u001b[39;49m\u001b[39m.\u001b[39;49mtimer)\n\u001b[1;32m    159\u001b[0m \u001b[39mfinally\u001b[39;00m:\n\u001b[1;32m    160\u001b[0m     \u001b[39mif\u001b[39;00m gcold:\n",
      "File \u001b[0;32m<magic-timeit>:15\u001b[0m, in \u001b[0;36minner\u001b[0;34m(_it, _timer)\u001b[0m\n",
      "\u001b[0;31mTypeError\u001b[0m: RegressionForest.__init__() missing 1 required positional argument: 'n_trees'"
     ]
    }
   ],
   "source": [
    "%%timeit -n 1 -r 1\n",
    "import seaborn\n",
    "\n",
    "# Train ten one-against-the-rest regression forests for the 10 digits.\n",
    "# Make sure that all training sets are balanced between the current digit and the rest.\n",
    "# Assign test instances to the digit with highest score, \n",
    "# or to \"unknown\" if all scores are negative.\n",
    "# Compute and plot the confusion matrix after 5-fold cross-validation and comment on your results.\n",
    "features = digits.data\n",
    "labels = digits.target\n",
    "\n",
    "splitter = KFold(n_splits=5)\n",
    "classes = list(np.unique(labels))\n",
    "classes.append(\"unknown\")\n",
    "\n",
    "forest = RegressionForest()\n",
    "confusion_matrix = np.zeros((len(classes), len(classes)))\n",
    "\n",
    "for train_index, test_index in splitter.split(features):\n",
    "    forest.train(features[train_index], labels[train_index])\n",
    "\n",
    "    for sample in test_index:\n",
    "        label = labels[sample]\n",
    "        prediction = forest.predict(features[sample])\n",
    "        confusion_matrix[classes.index(label)][classes.index(prediction)] += 1\n",
    "\n",
    "print(\"Accuracy: {:.1%}\".format(np.trace(confusion_matrix) / np.sum(confusion_matrix)))\n",
    "\n",
    "plt.figure(figsize=(10, 8))\n",
    "seaborn.heatmap(confusion_matrix / np.sum(confusion_matrix, axis=1), annot=True, cmap='Blues', xticklabels=classes, yticklabels=classes)\n",
    "plt.xlabel('Predicted label')\n",
    "plt.ylabel('True label')\n",
    "plt.title('Confusion matrix after 5-fold cross-validation')\n",
    "plt.show()"
   ]
  },
  {
   "attachments": {},
   "cell_type": "markdown",
   "metadata": {},
   "source": [
    "<div style=\"color: green; font-weight:\n",
    "bold\"> produces error doesn't work </div>"
   ]
  }
 ],
 "metadata": {
  "kernelspec": {
   "display_name": "Python 3 (ipykernel)",
   "language": "python",
   "name": "python3"
  },
  "language_info": {
   "codemirror_mode": {
    "name": "ipython",
    "version": 3
   },
   "file_extension": ".py",
   "mimetype": "text/x-python",
   "name": "python",
   "nbconvert_exporter": "python",
   "pygments_lexer": "ipython3",
   "version": "3.10.6"
  }
 },
 "nbformat": 4,
 "nbformat_minor": 4
}
