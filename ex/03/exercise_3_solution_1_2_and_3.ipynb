{
  "cells": [
    {
      "cell_type": "markdown",
      "source": [
        "### Task 1: "
      ],
      "metadata": {
        "id": "qulp2CeTu6Bp"
      }
    },
    {
      "cell_type": "code",
      "execution_count": 2,
      "metadata": {
        "id": "3oF1N8Ewuuko"
      },
      "outputs": [],
      "source": [
        "\n",
        "import numpy as np\n",
        "import matplotlib.pyplot as plt\n",
        "\n",
        "import torch\n",
        "import torch.optim as optim\n",
        "from torch.utils.data import DataLoader\n",
        "\n",
        "import torchvision.datasets as datasets\n",
        "import torchvision.transforms as transforms\n",
        "\n",
        "from torch.nn.functional import conv2d, max_pool2d, cross_entropy\n"
      ]
    },
    {
      "cell_type": "code",
      "execution_count": 3,
      "metadata": {
        "id": "Qya5qkPwuukq"
      },
      "outputs": [],
      "source": [
        "\n",
        "plt.rc(\"figure\", dpi=100)\n",
        "\n",
        "batch_size = 100\n",
        "\n",
        "# transform images into normalized tensors\n",
        "transform = transforms.Compose([\n",
        "    transforms.ToTensor(),\n",
        "    transforms.Normalize(mean=(0.5,), std=(0.5,))\n",
        "])\n",
        "\n",
        "train_dataset = datasets.MNIST(\n",
        "    \"./\",\n",
        "    download=True,\n",
        "    train=True,\n",
        "    transform=transform,\n",
        ")\n",
        "\n",
        "test_dataset = datasets.MNIST(\n",
        "    \"./\",\n",
        "    download=True,\n",
        "    train=False,\n",
        "    transform=transform,\n",
        ")\n",
        "\n",
        "train_dataloader = DataLoader(\n",
        "    dataset=train_dataset,\n",
        "    batch_size=batch_size,\n",
        "    shuffle=True,\n",
        "    num_workers=2,\n",
        "    pin_memory=True,\n",
        ")\n",
        "\n",
        "test_dataloader = DataLoader(\n",
        "    dataset=test_dataset,\n",
        "    batch_size=batch_size,\n",
        "    shuffle=False,\n",
        "    num_workers=2,\n",
        "    pin_memory=True,\n",
        ")\n",
        "\n",
        "def init_weights(shape):\n",
        "    # Kaiming He initialization (a good initialization is important)\n",
        "    # https://arxiv.org/abs/1502.01852\n",
        "    #use GPU acceleration\n",
        "    device =  torch.device('cuda:0' if torch.cuda.is_available() else 'cpu')\n",
        "    std = np.sqrt(2. / shape[0])\n",
        "    w = torch.randn(size=shape, device = device) * std\n",
        "    w.requires_grad = True\n",
        "    return w\n",
        "\n",
        "\n",
        "def rectify(x):\n",
        "    # Rectified Linear Unit (ReLU)\n",
        "    return torch.max(torch.zeros_like(x), x)\n",
        "\n",
        "\n",
        "class RMSprop(optim.Optimizer):\n",
        "    \"\"\"\n",
        "    This is a reduced version of the PyTorch internal RMSprop optimizer\n",
        "    It serves here as an example\n",
        "    \"\"\"\n",
        "    def __init__(self, params, lr=1e-3, alpha=0.5, eps=1e-8):\n",
        "        defaults = dict(lr=lr, alpha=alpha, eps=eps)\n",
        "        super(RMSprop, self).__init__(params, defaults)\n",
        "\n",
        "    def step(self):\n",
        "        for group in self.param_groups:\n",
        "            for p in group['params']:\n",
        "                grad = p.grad.data\n",
        "                state = self.state[p]\n",
        "\n",
        "                # state initialization\n",
        "                if len(state) == 0:\n",
        "                    state['square_avg'] = torch.zeros_like(p.data)\n",
        "\n",
        "                square_avg = state['square_avg']\n",
        "                alpha = group['alpha']\n",
        "\n",
        "                # update running averages\n",
        "                square_avg.mul_(alpha).addcmul_(grad, grad, value=1 - alpha)\n",
        "                avg = square_avg.sqrt().add_(group['eps'])\n",
        "\n",
        "                # gradient update\n",
        "                p.data.addcdiv_(grad, avg, value=-group['lr'])\n",
        "\n"
      ]
    },
    {
      "cell_type": "code",
      "execution_count": 4,
      "metadata": {
        "id": "24K1zB4Suuku"
      },
      "outputs": [],
      "source": [
        "\n",
        "def run_model(model, params ,n_epochs = 100):\n",
        "    print(len(params))\n",
        "    train_loss = []\n",
        "    test_loss = []\n",
        "\n",
        "    optimizer = RMSprop(params=params)\n",
        "\n",
        "\n",
        "    #define device\n",
        "    device = torch.device('cuda:0' if torch.cuda.is_available() else 'cpu')\n",
        "    print('Device:', device)\n",
        "    torch.cuda.set_device(device)\n",
        "\n",
        "    # put this into a training loop over 100 epochs\n",
        "    for epoch in range(n_epochs + 1):\n",
        "        train_loss_this_epoch = []\n",
        "        for idx, batch in enumerate(train_dataloader):\n",
        "            x, y = batch\n",
        "            x, y = x.to(device), y.to(device)\n",
        "\n",
        "            # our model requires flattened input\n",
        "            x = x.reshape(batch_size, 784)\n",
        "            # feed input through model\n",
        "            #noise_py_x = model(x, w_h, w_h2, w_o)\n",
        "            noise_py_x = model(x, *params)\n",
        "            # reset the gradient\n",
        "            optimizer.zero_grad()\n",
        "\n",
        "            # the cross-entropy loss function already contains the softmax\n",
        "            loss = cross_entropy(noise_py_x, y, reduction=\"mean\")\n",
        "            train_loss_this_epoch.append(float(loss.to(\"cpu\")))\n",
        "\n",
        "            # compute the gradient\n",
        "            loss.backward()\n",
        "            # update weights\n",
        "            optimizer.step()\n",
        "\n",
        "\n",
        "        train_loss.append(np.mean(train_loss_this_epoch))\n",
        "\n",
        "        # test periodically\n",
        "        if epoch % 10 == 0:\n",
        "            print(f\"Epoch: {epoch}\")\n",
        "            print(f\"Mean Train Loss: {train_loss[-1]:.2e}\")\n",
        "            test_loss_this_epoch = []\n",
        "\n",
        "            # no need to compute gradients for validation\n",
        "            with torch.no_grad():\n",
        "                for idx, batch in enumerate(test_dataloader):\n",
        "                    x, y = batch\n",
        "                    x, y = x.to(device), y.to(device)\n",
        "                    x = x.reshape(batch_size, 784)\n",
        "                    noise_py_x = model(x, *params)\n",
        "\n",
        "                    loss = cross_entropy(noise_py_x, y, reduction=\"mean\")\n",
        "                    test_loss_this_epoch.append(float(loss.cpu()))\n",
        "\n",
        "            test_loss.append(np.mean(test_loss_this_epoch))\n",
        "\n",
        "            print(f\"Mean Test Loss:  {test_loss[-1]:.2e}\")\n",
        "    return train_loss, test_loss\n",
        "\n",
        "\n",
        "def plot_results(train_loss, test_loss, n_epochs, label_addition = \"\"):\n",
        "    plt.plot(np.arange(n_epochs + 1), train_loss, label=f\"{label_addition}_Train\")\n",
        "    plt.plot(np.arange(1, n_epochs + 2, 10), test_loss, label=f\"{label_addition}_Test\")\n",
        "    plt.title(\"Train and Test Loss over Training\")\n",
        "    plt.xlabel(\"Epoch\")\n",
        "    plt.ylabel(\"Loss\")\n",
        "    plt.legend()\n"
      ]
    },
    {
      "cell_type": "markdown",
      "metadata": {
        "id": "JPuxz_bfuukv"
      },
      "source": [
        "## model from intro"
      ]
    },
    {
      "cell_type": "code",
      "execution_count": 22,
      "metadata": {
        "colab": {
          "base_uri": "https://localhost:8080/",
          "height": 1000
        },
        "id": "GEigrsvsuukx",
        "outputId": "6f145ed5-c432-4ada-8802-b9d5f61f07e7"
      },
      "outputs": [
        {
          "output_type": "stream",
          "name": "stdout",
          "text": [
            "3\n",
            "Device: cuda:0\n",
            "Epoch: 0\n",
            "Mean Train Loss: 3.95e-01\n",
            "Mean Test Loss:  1.69e-01\n",
            "Epoch: 10\n",
            "Mean Train Loss: 1.57e-01\n",
            "Mean Test Loss:  2.36e-01\n",
            "Epoch: 20\n",
            "Mean Train Loss: 9.68e-02\n",
            "Mean Test Loss:  3.37e-01\n",
            "Epoch: 30\n",
            "Mean Train Loss: 6.37e-02\n",
            "Mean Test Loss:  4.73e-01\n",
            "Epoch: 40\n",
            "Mean Train Loss: 5.50e-02\n",
            "Mean Test Loss:  6.74e-01\n",
            "Epoch: 50\n",
            "Mean Train Loss: 3.37e-02\n",
            "Mean Test Loss:  7.58e-01\n",
            "Epoch: 60\n",
            "Mean Train Loss: 2.76e-02\n",
            "Mean Test Loss:  8.20e-01\n",
            "Epoch: 70\n",
            "Mean Train Loss: 2.71e-02\n",
            "Mean Test Loss:  6.54e-01\n",
            "Epoch: 80\n",
            "Mean Train Loss: 1.61e-02\n",
            "Mean Test Loss:  9.31e-01\n",
            "Epoch: 90\n",
            "Mean Train Loss: 9.79e-03\n",
            "Mean Test Loss:  8.42e-01\n",
            "Epoch: 100\n",
            "Mean Train Loss: 8.77e-03\n",
            "Mean Test Loss:  1.04e+00\n"
          ]
        },
        {
          "output_type": "display_data",
          "data": {
            "text/plain": [
              "<Figure size 640x480 with 1 Axes>"
            ],
            "image/png": "[encoded data removed]"
          },
          "metadata": {}
        }
      ],
      "source": [
        "#epochs to train\n",
        "n_epochs = 100\n",
        "\n",
        "# define the neural network\n",
        "def intro_model(x, w_h, w_h2, w_o):\n",
        "    h = rectify(x @ w_h)\n",
        "    h2 = rectify(h @ w_h2)\n",
        "    pre_softmax = h2 @ w_o\n",
        "    return pre_softmax\n",
        "\n",
        "# initialize weights\n",
        "\n",
        "# input shape is (B, 784)\n",
        "w_h = init_weights((784, 625))\n",
        "# hidden layer with 625 neurons\n",
        "w_h2 = init_weights((625, 625))\n",
        "# hidden layer with 625 neurons\n",
        "w_o = init_weights((625, 10))\n",
        "# output shape is (B, 10)\n",
        "intro_params = [w_h, w_h2, w_o]\n",
        "\n",
        "intro_train_loss, intro_test_loss = run_model(intro_model, intro_params, n_epochs)\n",
        "\n",
        "plot_results(intro_train_loss,intro_test_loss, n_epochs, \"intro\")"
      ]
    },
    {
      "cell_type": "markdown",
      "source": [
        "### Task 2: Drop-out layer"
      ],
      "metadata": {
        "id": "JqvT8SSX6MtY"
      }
    },
    {
      "cell_type": "code",
      "source": [
        "\n",
        "#define dropout layer\n",
        "def dropout(X , p_drop = 0.5) :\n",
        "\n",
        "    #check device in case of GPU \n",
        "    device = torch.device('cuda:0' if torch.cuda.is_available() else 'cpu')\n",
        "\n",
        "    #return unchanged X\n",
        "    if p_drop <= 0.0 or p_drop >= 1.0:\n",
        "        return X\n",
        "\n",
        "    #create mask from dropout threshold using numbers generated by binomial distribution\n",
        "    mask = torch.bernoulli(torch.ones(X.size()) * p_drop).type(torch.bool).to(device)\n",
        "\n",
        "    #now set 0 if mask value is 1 else set it to xi/(1-p_drop)\n",
        "    return torch.where(mask, 0, X/(1-p_drop))\n",
        "\n",
        "\n",
        "def dropout_model(x , w_h , w_h2 , w_o , p_drop_input = 0.1 , p_drop_hidden = 0.1):\n",
        "\n",
        "    #apply dropout to X\n",
        "    x_drop = dropout(x, p_drop = p_drop_input)\n",
        "    h = rectify(x_drop @ w_h)\n",
        "\n",
        "    #apply dropout to h\n",
        "    h_drop = dropout(h, p_drop = p_drop_hidden)\n",
        "    h2 = rectify(h_drop @ w_h2)\n",
        "\n",
        "    #apply dropout to h2\n",
        "    h2_drop = dropout(h2, p_drop = p_drop_hidden)\n",
        "    pre_softmax = h2_drop @ w_o\n",
        "\n",
        "    return pre_softmax\n"
      ],
      "metadata": {
        "id": "DZb6mLYE6Lr3"
      },
      "execution_count": 23,
      "outputs": []
    },
    {
      "cell_type": "code",
      "source": [
        "#train model and show data\n",
        "\n",
        "#epochs to train\n",
        "n_epochs = 100\n",
        "\n",
        "# initialize weights\n",
        "\n",
        "# input shape is (B, 784)\n",
        "w_h = init_weights((784, 625))\n",
        "# hidden layer with 625 neurons\n",
        "w_h2 = init_weights((625, 625))\n",
        "# hidden layer with 625 neurons\n",
        "w_o = init_weights((625, 10))\n",
        "# output shape is (B, 10)\n",
        "intro_params = [w_h, w_h2, w_o]\n",
        "\n",
        "intro_train_loss, intro_test_loss = run_model(dropout_model, intro_params, n_epochs)\n",
        "\n",
        "plot_results(intro_train_loss,intro_test_loss, n_epochs, \"with dropout rate of 0.1\")"
      ],
      "metadata": {
        "colab": {
          "base_uri": "https://localhost:8080/",
          "height": 1000
        },
        "id": "E4krsDO6CAqj",
        "outputId": "27582878-c74c-4e44-9778-26bb6add116a"
      },
      "execution_count": 24,
      "outputs": [
        {
          "output_type": "stream",
          "name": "stdout",
          "text": [
            "3\n",
            "Device: cuda:0\n",
            "Epoch: 0\n",
            "Mean Train Loss: 4.51e-01\n",
            "Mean Test Loss:  3.01e-01\n",
            "Epoch: 10\n",
            "Mean Train Loss: 2.42e-01\n",
            "Mean Test Loss:  2.83e-01\n",
            "Epoch: 20\n",
            "Mean Train Loss: 2.11e-01\n",
            "Mean Test Loss:  3.53e-01\n",
            "Epoch: 30\n",
            "Mean Train Loss: 2.21e-01\n",
            "Mean Test Loss:  6.19e-01\n",
            "Epoch: 40\n",
            "Mean Train Loss: 2.13e-01\n",
            "Mean Test Loss:  8.28e-01\n",
            "Epoch: 50\n",
            "Mean Train Loss: 1.99e-01\n",
            "Mean Test Loss:  7.59e-01\n",
            "Epoch: 60\n",
            "Mean Train Loss: 1.98e-01\n",
            "Mean Test Loss:  8.17e-01\n",
            "Epoch: 70\n",
            "Mean Train Loss: 1.70e-01\n",
            "Mean Test Loss:  9.56e-01\n",
            "Epoch: 80\n",
            "Mean Train Loss: 1.85e-01\n",
            "Mean Test Loss:  8.50e-01\n",
            "Epoch: 90\n",
            "Mean Train Loss: 1.70e-01\n",
            "Mean Test Loss:  9.54e-01\n",
            "Epoch: 100\n",
            "Mean Train Loss: 1.62e-01\n",
            "Mean Test Loss:  7.90e-01\n"
          ]
        },
        {
          "output_type": "display_data",
          "data": {
            "text/plain": [
              "<Figure size 640x480 with 1 Axes>"
            ],
            "image/png": "[encoded data removed]"
          },
          "metadata": {}
        }
      ]
    },
    {
      "cell_type": "markdown",
      "source": [
        "* Dropout method is used as a regularization technique to reduce overfitting during training. During training of neural network, a proporation of input neurons are set to 0 based on given prior probability or `dropout_rate`. We are setting those values to zero thus the work dropping out. It penalizes the model to rely on few neurons for predictions and thus improving connectivity of neurons across all neurons to generalize.\n",
        "\n",
        "* By randomly dropping out units, dropout introduces unpredictable noise and prevents strong biased connections between few neurons. This noise forces the neural network to learn redundant features, making it more robust to variations in the input data. Concequenty, dropout helps reduce overfitting by preventing the model from memorizing the training data too closely and improves the model's ability to generalize to unseen data.\n",
        "\n",
        "* In test environment, we aim to get reproducible and reliable predictions. However, dropout introduces noise which in turn generates randomness during testing. Therefore a new test configuration is required for testing on unseen data. It includes either removing dropout layers or disabling them and sometimes use of modified network with adjusted layers for absence of dropout. By evaluating the model after dropout layers removal, we can obtain a more reliable and reproducible estimate of its generalization performance on new, unseen data. \n",
        "\n",
        "* The difference between training and testing error with dropout enabled network is significantly lower than in the case of normal model.\n",
        "* The test errors for normal model vs dropout model are very similar and comparable when used for values in 0.1-0.2 range (with slight improvements with 0.1 or lower value), however, too large value can cause dropout model to perform worse as found in our experiments.\n"
      ],
      "metadata": {
        "id": "TJ0uQYgFDfEH"
      }
    },
    {
      "cell_type": "markdown",
      "source": [
        "### Task 3: PReLU"
      ],
      "metadata": {
        "id": "TKDRHzwCGPhw"
      }
    },
    {
      "cell_type": "code",
      "execution_count": null,
      "metadata": {
        "id": "v98E5X3Wuukx"
      },
      "outputs": [],
      "source": [
        "\n",
        "def prelu(x,a):\n",
        "    zero = torch.zeros_like(x)\n",
        "    return torch.max(zero,x) + torch.min(zero,x)*a\n",
        "\n",
        "def prelu_model(x, w_h, w_h2, w_o, a):\n",
        "    h = prelu(x @ w_h, a)\n",
        "\n",
        "    h2 = prelu(h @ w_h2, a)\n",
        "    pre_softmax = h2 @ w_o\n",
        "    return pre_softmax\n",
        "\n",
        "\n",
        "# initialize weights\n",
        "\n",
        "# input shape is (B, 784)\n",
        "w_h = init_weights((784, 625))\n",
        "# hidden layer with 625 neurons\n",
        "w_h2 = init_weights((625, 625))\n",
        "# hidden layer with 625 neurons\n",
        "w_o = init_weights((625, 10))\n",
        "# output shape is (B, 10)\n",
        "a = init_weights((100,625))\n",
        "\n",
        "#optimizer = RMSprop(params=[w_h, w_h2, w_o])\n",
        "\n",
        "\n",
        "params = [w_h, w_h2, w_o, a]\n",
        "\n",
        "prelu_train_loss, prelu_test_loss = run_model(prelu_model, params, n_epochs)\n",
        "\n",
        "plot_results(prelu_train_loss,prelu_test_loss,n_epochs,\"prelu\")"
      ]
    },
    {
      "cell_type": "code",
      "execution_count": null,
      "metadata": {
        "id": "dzlb9Iypuuky",
        "outputId": "b40b5ec5-a81f-4a5e-e29e-b3530e52e6f8"
      },
      "outputs": [
        {
          "name": "stdout",
          "output_type": "stream",
          "text": [
            "[0.43111410001292827, 0.21865547606255858, 0.18132685039852126, 0.16782314110430888]\n"
          ]
        }
      ],
      "source": [
        "print(prelu_train_loss)"
      ]
    }
  ],
  "metadata": {
    "kernelspec": {
      "display_name": "Python 3",
      "name": "python3"
    },
    "language_info": {
      "codemirror_mode": {
        "name": "ipython",
        "version": 3
      },
      "file_extension": ".py",
      "mimetype": "text/x-python",
      "name": "python",
      "nbconvert_exporter": "python",
      "pygments_lexer": "ipython3",
      "version": "3.10.6"
    },
    "orig_nbformat": 4,
    "colab": {
      "provenance": [],
      "gpuType": "T4"
    },
    "accelerator": "GPU"
  },
  "nbformat": 4,
  "nbformat_minor": 0
}
